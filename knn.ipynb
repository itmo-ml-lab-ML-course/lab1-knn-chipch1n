{
 "cells": [
  {
   "cell_type": "markdown",
   "source": [
    "preproc"
   ],
   "metadata": {
    "collapsed": false
   },
   "id": "2967ab979b0a0521"
  },
  {
   "cell_type": "code",
   "execution_count": 16,
   "outputs": [],
   "source": [
    "import math\n",
    "\n",
    "import pandas as pd\n",
    "import numpy as np\n",
    "import matplotlib.pyplot as plt\n",
    "from tqdm import tqdm\n",
    "from sklearn.preprocessing import OneHotEncoder, StandardScaler\n",
    "from sklearn.model_selection import train_test_split\n",
    "from sklearn.metrics import accuracy_score\n",
    "\n",
    "df = pd.read_csv(\"reduced_simple_for_lab_3_parsed_data_copy.csv\")\n",
    "df = df[df[\"Median\"] != \"-\"]\n",
    "df[\"Median\"] = [float(i.replace(\",\", \"\")) for i in df[\"Median\"].values]\n",
    "df = df[df[\"Median\"] < 1000]"
   ],
   "metadata": {
    "collapsed": false,
    "ExecuteTime": {
     "end_time": "2024-03-28T07:48:11.164191Z",
     "start_time": "2024-03-28T07:48:11.130374Z"
    }
   },
   "id": "initial_id"
  },
  {
   "cell_type": "code",
   "execution_count": 17,
   "outputs": [],
   "source": [
    "X = df[[\"Artist\", \"Title\", \"Label\", \"Format\", \"Country\", \"Genre\", \"Have\", \"Want\", \"Ratings\", \"Style\", \"Median\"]].copy()\n",
    "\n",
    "\n",
    "def OneHotEncodeColumn(column_name):\n",
    "    column_encoder = OneHotEncoder()\n",
    "    return column_encoder.fit_transform(X[column_name].values.reshape(-1, 1)).toarray()\n",
    "\n",
    "\n",
    "artists = OneHotEncodeColumn(\"Artist\")\n",
    "labels = OneHotEncodeColumn(\"Label\")\n",
    "formats = OneHotEncodeColumn(\"Format\")\n",
    "countries = OneHotEncodeColumn(\"Country\")\n",
    "genres = OneHotEncodeColumn(\"Genre\")\n",
    "style = OneHotEncodeColumn(\"Style\")\n",
    "scaler = StandardScaler()\n",
    "X[[\"Have\", \"Want\", \"Ratings\", \"Median\"]] = scaler.fit_transform(X[[\"Have\", \"Want\", \"Ratings\", \"Median\"]])\n",
    "\n",
    "X = np.concatenate((genres, style, X[[\"Have\", \"Want\", \"Ratings\", \"Median\"]].values), axis=1)\n",
    "y = np.argmax(formats, axis=1)"
   ],
   "metadata": {
    "collapsed": false,
    "ExecuteTime": {
     "end_time": "2024-03-28T07:48:11.710414Z",
     "start_time": "2024-03-28T07:48:11.632605Z"
    }
   },
   "id": "c35f9a2d33e3c8f3"
  },
  {
   "cell_type": "code",
   "execution_count": 18,
   "outputs": [],
   "source": [
    "X_train, X_val, y_train, y_val = train_test_split(X, y)"
   ],
   "metadata": {
    "collapsed": false,
    "ExecuteTime": {
     "end_time": "2024-03-28T07:48:12.245334Z",
     "start_time": "2024-03-28T07:48:12.235285Z"
    }
   },
   "id": "741cb3268a7d39e"
  },
  {
   "cell_type": "markdown",
   "source": [
    "my impl"
   ],
   "metadata": {
    "collapsed": false
   },
   "id": "d7283f3c45426233"
  },
  {
   "cell_type": "code",
   "execution_count": 19,
   "outputs": [],
   "source": [
    "def uniform_kernel(x):\n",
    "    return 1 / 2 if abs(x) <= 1 else 0\n",
    "\n",
    "\n",
    "def gaussian_kernel(x):\n",
    "    return 1 / math.sqrt(2 * math.pi) * math.exp(-x ** 2 / 2)\n",
    "\n",
    "\n",
    "def epanechnikov_kernel(x):\n",
    "    return 3 / 4 * (1 - x ** 2) if abs(x) <= 1 else 0\n",
    "\n",
    "\n",
    "def triangular_kernel(x):\n",
    "    return 1 - abs(x) if abs(x) <= 1 else 0"
   ],
   "metadata": {
    "collapsed": false,
    "ExecuteTime": {
     "end_time": "2024-03-28T07:48:13.120487Z",
     "start_time": "2024-03-28T07:48:13.114783Z"
    }
   },
   "id": "1c02848356a3d251"
  },
  {
   "cell_type": "code",
   "execution_count": 68,
   "outputs": [],
   "source": [
    "from sklearn.neighbors import NearestNeighbors\n",
    "\n",
    "\n",
    "class MyKnn:\n",
    "\n",
    "    def __init__(self, k, fixed=False, kernel=\"uniform\", metric=\"cosine\"):\n",
    "        self.weights = None\n",
    "        self.X = None\n",
    "        self.y = None\n",
    "        self.finder = None\n",
    "        self.k = k\n",
    "        self.fixed = fixed\n",
    "        self.kernel = {\"uniform\": uniform_kernel, \"gaussian\": gaussian_kernel, \"epanechnikov\": epanechnikov_kernel,\n",
    "                       \"triangular\": triangular_kernel}[kernel]\n",
    "        self.metric = metric\n",
    "\n",
    "    def fit(self, X, y, weights=None):\n",
    "        self.X = X\n",
    "        self.y = y\n",
    "        self.weights = weights\n",
    "        if self.fixed:\n",
    "            self.finder = NearestNeighbors(algorithm='auto', radius=self.k, metric=self.metric).fit(X)\n",
    "        else:\n",
    "            self.finder = NearestNeighbors(n_neighbors=self.k + 1, algorithm='auto', metric=self.metric).fit(X)\n",
    "\n",
    "    def predict(self, x):\n",
    "        distances, indices = self.finder.kneighbors(x)\n",
    "        res = []\n",
    "        for l, ind in enumerate(indices):\n",
    "            if self.fixed:\n",
    "                h = self.k\n",
    "            else: \n",
    "                h = distances[l][-1]\n",
    "            tmp = np.zeros(np.max(self.y) + 1)\n",
    "            for i in range(len(ind) - 1):\n",
    "                tmp[y[ind[i]]] += self.kernel(distances[l][i] / h) * (self.weights[ind[i]] if self.weights else 1)\n",
    "            res.append(np.argmax(tmp))\n",
    "        return res\n",
    "    \n",
    "    def closest(self, x):\n",
    "        distances, indices = self.finder.kneighbors(x)\n",
    "        return distances, indices\n",
    "    \n",
    "    def get_params(self, deep=True):\n",
    "        return {\"k\": self.k,\n",
    "                \"fixed\": self.fixed,\n",
    "                \"kernel\": self.kernel,\n",
    "                \"metric\": self.metric}\n"
   ],
   "metadata": {
    "collapsed": false,
    "ExecuteTime": {
     "end_time": "2024-03-28T08:11:15.751801Z",
     "start_time": "2024-03-28T08:11:15.738410Z"
    }
   },
   "id": "ea88779282de13ad"
  },
  {
   "cell_type": "code",
   "execution_count": 69,
   "outputs": [
    {
     "data": {
      "text/plain": "(array([[0.00210439, 0.00895674]]), array([[5182, 5199]]))"
     },
     "execution_count": 69,
     "metadata": {},
     "output_type": "execute_result"
    }
   ],
   "source": [
    "model = MyKnn(1, False, \"uniform\", \"cosine\")\n",
    "model.fit(X_train, y_train)\n",
    "model.closest(X_val[:1])"
   ],
   "metadata": {
    "collapsed": false,
    "ExecuteTime": {
     "end_time": "2024-03-28T08:11:17.429123Z",
     "start_time": "2024-03-28T08:11:17.419465Z"
    }
   },
   "id": "472dbdb661cc74be"
  },
  {
   "cell_type": "code",
   "execution_count": 70,
   "outputs": [
    {
     "name": "stderr",
     "output_type": "stream",
     "text": [
      "[I 2024-03-28 11:11:21,933] A new study created in memory with name: no-name-d046eb8a-4f7f-427c-9e9a-f378beec0662\n",
      "[I 2024-03-28 11:11:22,051] Trial 0 finished with value: 0.660392798690671 and parameters: {'fixed': True, 'k': 61, 'kernel': 'epanechnikov', 'metric': 'minkowski'}. Best is trial 0 with value: 0.660392798690671.\n",
      "[I 2024-03-28 11:11:22,607] Trial 1 finished with value: 0.6096563011456628 and parameters: {'fixed': True, 'k': 61, 'kernel': 'uniform', 'metric': 'cosine'}. Best is trial 0 with value: 0.660392798690671.\n",
      "[I 2024-03-28 11:11:23,081] Trial 2 finished with value: 0.6579378068739771 and parameters: {'fixed': True, 'k': 111, 'kernel': 'triangular', 'metric': 'cosine'}. Best is trial 0 with value: 0.660392798690671.\n",
      "[I 2024-03-28 11:11:23,152] Trial 3 finished with value: 0.6612111292962357 and parameters: {'fixed': True, 'k': 71, 'kernel': 'triangular', 'metric': 'minkowski'}. Best is trial 3 with value: 0.6612111292962357.\n",
      "[I 2024-03-28 11:11:23,688] Trial 4 finished with value: 0.7311783960720131 and parameters: {'fixed': False, 'k': 31, 'kernel': 'uniform', 'metric': 'manhattan'}. Best is trial 4 with value: 0.7311783960720131.\n",
      "[I 2024-03-28 11:11:24,262] Trial 5 finished with value: 0.7287234042553191 and parameters: {'fixed': False, 'k': 81, 'kernel': 'epanechnikov', 'metric': 'cosine'}. Best is trial 4 with value: 0.7311783960720131.\n",
      "[I 2024-03-28 11:11:24,329] Trial 6 finished with value: 0.6170212765957447 and parameters: {'fixed': True, 'k': 101, 'kernel': 'uniform', 'metric': 'euclidean'}. Best is trial 4 with value: 0.7311783960720131.\n",
      "[I 2024-03-28 11:11:24,911] Trial 7 finished with value: 0.7311783960720131 and parameters: {'fixed': False, 'k': 91, 'kernel': 'gaussian', 'metric': 'cosine'}. Best is trial 4 with value: 0.7311783960720131.\n",
      "[I 2024-03-28 11:11:25,483] Trial 8 finished with value: 0.7287234042553191 and parameters: {'fixed': False, 'k': 81, 'kernel': 'epanechnikov', 'metric': 'cosine'}. Best is trial 4 with value: 0.7311783960720131.\n",
      "[I 2024-03-28 11:11:25,753] Trial 9 finished with value: 0.7311783960720131 and parameters: {'fixed': False, 'k': 111, 'kernel': 'gaussian', 'metric': 'euclidean'}. Best is trial 4 with value: 0.7311783960720131.\n",
      "[I 2024-03-28 11:11:26,247] Trial 10 finished with value: 0.7066284779050737 and parameters: {'fixed': False, 'k': 11, 'kernel': 'uniform', 'metric': 'manhattan'}. Best is trial 4 with value: 0.7311783960720131.\n",
      "[I 2024-03-28 11:11:26,785] Trial 11 finished with value: 0.7262684124386252 and parameters: {'fixed': False, 'k': 21, 'kernel': 'gaussian', 'metric': 'manhattan'}. Best is trial 4 with value: 0.7311783960720131.\n",
      "[I 2024-03-28 11:11:27,578] Trial 12 finished with value: 0.7311783960720131 and parameters: {'fixed': False, 'k': 141, 'kernel': 'gaussian', 'metric': 'manhattan'}. Best is trial 4 with value: 0.7311783960720131.\n",
      "[I 2024-03-28 11:11:28,130] Trial 13 finished with value: 0.7311783960720131 and parameters: {'fixed': False, 'k': 31, 'kernel': 'uniform', 'metric': 'manhattan'}. Best is trial 4 with value: 0.7311783960720131.\n",
      "[I 2024-03-28 11:11:28,646] Trial 14 finished with value: 0.7311783960720131 and parameters: {'fixed': False, 'k': 41, 'kernel': 'gaussian', 'metric': 'cosine'}. Best is trial 4 with value: 0.7311783960720131.\n",
      "[I 2024-03-28 11:11:29,450] Trial 15 finished with value: 0.7311783960720131 and parameters: {'fixed': False, 'k': 151, 'kernel': 'uniform', 'metric': 'manhattan'}. Best is trial 4 with value: 0.7311783960720131.\n",
      "[I 2024-03-28 11:11:29,519] Trial 16 finished with value: 0.5990180032733224 and parameters: {'fixed': False, 'k': 1, 'kernel': 'gaussian', 'metric': 'euclidean'}. Best is trial 4 with value: 0.7311783960720131.\n",
      "[I 2024-03-28 11:11:29,657] Trial 17 finished with value: 0.7193126022913257 and parameters: {'fixed': False, 'k': 41, 'kernel': 'triangular', 'metric': 'minkowski'}. Best is trial 4 with value: 0.7311783960720131.\n",
      "[I 2024-03-28 11:11:30,436] Trial 18 finished with value: 0.7311783960720131 and parameters: {'fixed': False, 'k': 131, 'kernel': 'gaussian', 'metric': 'manhattan'}. Best is trial 4 with value: 0.7311783960720131.\n",
      "[I 2024-03-28 11:11:31,008] Trial 19 finished with value: 0.7311783960720131 and parameters: {'fixed': False, 'k': 91, 'kernel': 'uniform', 'metric': 'cosine'}. Best is trial 4 with value: 0.7311783960720131.\n",
      "[I 2024-03-28 11:11:31,641] Trial 20 finished with value: 0.7311783960720131 and parameters: {'fixed': False, 'k': 61, 'kernel': 'gaussian', 'metric': 'manhattan'}. Best is trial 4 with value: 0.7311783960720131.\n",
      "[I 2024-03-28 11:11:31,897] Trial 21 finished with value: 0.7311783960720131 and parameters: {'fixed': False, 'k': 101, 'kernel': 'gaussian', 'metric': 'euclidean'}. Best is trial 4 with value: 0.7311783960720131.\n",
      "[I 2024-03-28 11:11:32,193] Trial 22 finished with value: 0.7311783960720131 and parameters: {'fixed': False, 'k': 121, 'kernel': 'gaussian', 'metric': 'euclidean'}. Best is trial 4 with value: 0.7311783960720131.\n",
      "[I 2024-03-28 11:11:32,485] Trial 23 finished with value: 0.7311783960720131 and parameters: {'fixed': False, 'k': 121, 'kernel': 'gaussian', 'metric': 'euclidean'}. Best is trial 4 with value: 0.7311783960720131.\n",
      "[I 2024-03-28 11:11:32,739] Trial 24 finished with value: 0.7311783960720131 and parameters: {'fixed': False, 'k': 101, 'kernel': 'gaussian', 'metric': 'euclidean'}. Best is trial 4 with value: 0.7311783960720131.\n",
      "[I 2024-03-28 11:11:32,892] Trial 25 finished with value: 0.7311783960720131 and parameters: {'fixed': False, 'k': 51, 'kernel': 'uniform', 'metric': 'euclidean'}. Best is trial 4 with value: 0.7311783960720131.\n",
      "[I 2024-03-28 11:11:33,357] Trial 26 finished with value: 0.6579378068739771 and parameters: {'fixed': True, 'k': 91, 'kernel': 'triangular', 'metric': 'cosine'}. Best is trial 4 with value: 0.7311783960720131.\n",
      "[I 2024-03-28 11:11:33,617] Trial 27 finished with value: 0.7283142389525368 and parameters: {'fixed': False, 'k': 111, 'kernel': 'epanechnikov', 'metric': 'minkowski'}. Best is trial 4 with value: 0.7311783960720131.\n",
      "[I 2024-03-28 11:11:33,823] Trial 28 finished with value: 0.7311783960720131 and parameters: {'fixed': False, 'k': 71, 'kernel': 'gaussian', 'metric': 'euclidean'}. Best is trial 4 with value: 0.7311783960720131.\n",
      "[I 2024-03-28 11:11:33,907] Trial 29 finished with value: 0.660392798690671 and parameters: {'fixed': True, 'k': 131, 'kernel': 'epanechnikov', 'metric': 'minkowski'}. Best is trial 4 with value: 0.7311783960720131.\n",
      "[I 2024-03-28 11:11:34,482] Trial 30 finished with value: 0.7311783960720131 and parameters: {'fixed': False, 'k': 91, 'kernel': 'uniform', 'metric': 'cosine'}. Best is trial 4 with value: 0.7311783960720131.\n",
      "[I 2024-03-28 11:11:35,295] Trial 31 finished with value: 0.7311783960720131 and parameters: {'fixed': False, 'k': 151, 'kernel': 'gaussian', 'metric': 'manhattan'}. Best is trial 4 with value: 0.7311783960720131.\n",
      "[I 2024-03-28 11:11:36,092] Trial 32 finished with value: 0.7311783960720131 and parameters: {'fixed': False, 'k': 141, 'kernel': 'gaussian', 'metric': 'manhattan'}. Best is trial 4 with value: 0.7311783960720131.\n",
      "[I 2024-03-28 11:11:36,891] Trial 33 finished with value: 0.7311783960720131 and parameters: {'fixed': False, 'k': 131, 'kernel': 'gaussian', 'metric': 'manhattan'}. Best is trial 4 with value: 0.7311783960720131.\n",
      "[I 2024-03-28 11:11:37,367] Trial 34 finished with value: 0.6583469721767594 and parameters: {'fixed': True, 'k': 111, 'kernel': 'gaussian', 'metric': 'manhattan'}. Best is trial 4 with value: 0.7311783960720131.\n",
      "[I 2024-03-28 11:11:38,015] Trial 35 finished with value: 0.7291325695581015 and parameters: {'fixed': False, 'k': 141, 'kernel': 'triangular', 'metric': 'cosine'}. Best is trial 4 with value: 0.7311783960720131.\n",
      "[I 2024-03-28 11:11:38,490] Trial 36 finished with value: 0.6583469721767594 and parameters: {'fixed': True, 'k': 121, 'kernel': 'gaussian', 'metric': 'manhattan'}. Best is trial 4 with value: 0.7311783960720131.\n",
      "[I 2024-03-28 11:11:39,022] Trial 37 finished with value: 0.7311783960720131 and parameters: {'fixed': False, 'k': 71, 'kernel': 'uniform', 'metric': 'cosine'}. Best is trial 4 with value: 0.7311783960720131.\n",
      "[I 2024-03-28 11:11:39,113] Trial 38 finished with value: 0.660392798690671 and parameters: {'fixed': True, 'k': 61, 'kernel': 'epanechnikov', 'metric': 'minkowski'}. Best is trial 4 with value: 0.7311783960720131.\n",
      "[I 2024-03-28 11:11:39,782] Trial 39 finished with value: 0.7311783960720131 and parameters: {'fixed': False, 'k': 81, 'kernel': 'gaussian', 'metric': 'manhattan'}. Best is trial 4 with value: 0.7311783960720131.\n",
      "[I 2024-03-28 11:11:40,254] Trial 40 finished with value: 0.7258592471358429 and parameters: {'fixed': False, 'k': 21, 'kernel': 'uniform', 'metric': 'cosine'}. Best is trial 4 with value: 0.7311783960720131.\n",
      "[I 2024-03-28 11:11:40,821] Trial 41 finished with value: 0.7311783960720131 and parameters: {'fixed': False, 'k': 31, 'kernel': 'uniform', 'metric': 'manhattan'}. Best is trial 4 with value: 0.7311783960720131.\n",
      "[I 2024-03-28 11:11:41,454] Trial 42 finished with value: 0.7311783960720131 and parameters: {'fixed': False, 'k': 51, 'kernel': 'uniform', 'metric': 'manhattan'}. Best is trial 4 with value: 0.7311783960720131.\n",
      "[I 2024-03-28 11:11:41,951] Trial 43 finished with value: 0.6006546644844517 and parameters: {'fixed': False, 'k': 1, 'kernel': 'uniform', 'metric': 'manhattan'}. Best is trial 4 with value: 0.7311783960720131.\n",
      "[I 2024-03-28 11:11:42,469] Trial 44 finished with value: 0.7250409165302782 and parameters: {'fixed': False, 'k': 21, 'kernel': 'uniform', 'metric': 'manhattan'}. Best is trial 4 with value: 0.7311783960720131.\n",
      "[I 2024-03-28 11:11:43,003] Trial 45 finished with value: 0.7311783960720131 and parameters: {'fixed': False, 'k': 31, 'kernel': 'uniform', 'metric': 'manhattan'}. Best is trial 4 with value: 0.7311783960720131.\n",
      "[I 2024-03-28 11:11:43,139] Trial 46 finished with value: 0.7193126022913257 and parameters: {'fixed': False, 'k': 41, 'kernel': 'triangular', 'metric': 'euclidean'}. Best is trial 4 with value: 0.7311783960720131.\n",
      "[I 2024-03-28 11:11:43,652] Trial 47 finished with value: 0.7123567921440261 and parameters: {'fixed': False, 'k': 11, 'kernel': 'gaussian', 'metric': 'manhattan'}. Best is trial 4 with value: 0.7311783960720131.\n",
      "[I 2024-03-28 11:11:44,223] Trial 48 finished with value: 0.7287234042553191 and parameters: {'fixed': False, 'k': 81, 'kernel': 'epanechnikov', 'metric': 'cosine'}. Best is trial 4 with value: 0.7311783960720131.\n",
      "[I 2024-03-28 11:11:44,903] Trial 49 finished with value: 0.7311783960720131 and parameters: {'fixed': False, 'k': 101, 'kernel': 'uniform', 'metric': 'manhattan'}. Best is trial 4 with value: 0.7311783960720131.\n",
      "[I 2024-03-28 11:11:44,983] Trial 50 finished with value: 0.660392798690671 and parameters: {'fixed': True, 'k': 51, 'kernel': 'gaussian', 'metric': 'euclidean'}. Best is trial 4 with value: 0.7311783960720131.\n",
      "[I 2024-03-28 11:11:45,497] Trial 51 finished with value: 0.7311783960720131 and parameters: {'fixed': False, 'k': 31, 'kernel': 'gaussian', 'metric': 'cosine'}. Best is trial 4 with value: 0.7311783960720131.\n",
      "[I 2024-03-28 11:11:46,021] Trial 52 finished with value: 0.7311783960720131 and parameters: {'fixed': False, 'k': 41, 'kernel': 'gaussian', 'metric': 'cosine'}. Best is trial 4 with value: 0.7311783960720131.\n",
      "[I 2024-03-28 11:11:46,517] Trial 53 finished with value: 0.7103109656301145 and parameters: {'fixed': False, 'k': 11, 'kernel': 'gaussian', 'metric': 'cosine'}. Best is trial 4 with value: 0.7311783960720131.\n",
      "[I 2024-03-28 11:11:47,127] Trial 54 finished with value: 0.7311783960720131 and parameters: {'fixed': False, 'k': 91, 'kernel': 'gaussian', 'metric': 'cosine'}. Best is trial 4 with value: 0.7311783960720131.\n",
      "[I 2024-03-28 11:11:47,269] Trial 55 finished with value: 0.7311783960720131 and parameters: {'fixed': False, 'k': 41, 'kernel': 'gaussian', 'metric': 'euclidean'}. Best is trial 4 with value: 0.7311783960720131.\n",
      "[I 2024-03-28 11:11:47,360] Trial 56 finished with value: 0.6820785597381342 and parameters: {'fixed': False, 'k': 11, 'kernel': 'triangular', 'metric': 'minkowski'}. Best is trial 4 with value: 0.7311783960720131.\n",
      "[I 2024-03-28 11:11:48,003] Trial 57 finished with value: 0.7311783960720131 and parameters: {'fixed': False, 'k': 111, 'kernel': 'gaussian', 'metric': 'cosine'}. Best is trial 4 with value: 0.7311783960720131.\n",
      "[I 2024-03-28 11:11:48,530] Trial 58 finished with value: 0.7250409165302782 and parameters: {'fixed': False, 'k': 21, 'kernel': 'uniform', 'metric': 'manhattan'}. Best is trial 4 with value: 0.7311783960720131.\n",
      "[I 2024-03-28 11:11:48,726] Trial 59 finished with value: 0.7311783960720131 and parameters: {'fixed': False, 'k': 71, 'kernel': 'gaussian', 'metric': 'euclidean'}. Best is trial 4 with value: 0.7311783960720131.\n",
      "[I 2024-03-28 11:11:49,233] Trial 60 finished with value: 0.7311783960720131 and parameters: {'fixed': False, 'k': 31, 'kernel': 'gaussian', 'metric': 'cosine'}. Best is trial 4 with value: 0.7311783960720131.\n",
      "[I 2024-03-28 11:11:49,984] Trial 61 finished with value: 0.7311783960720131 and parameters: {'fixed': False, 'k': 151, 'kernel': 'uniform', 'metric': 'manhattan'}. Best is trial 4 with value: 0.7311783960720131.\n",
      "[I 2024-03-28 11:11:50,758] Trial 62 finished with value: 0.7311783960720131 and parameters: {'fixed': False, 'k': 141, 'kernel': 'uniform', 'metric': 'manhattan'}. Best is trial 4 with value: 0.7311783960720131.\n",
      "[I 2024-03-28 11:11:51,519] Trial 63 finished with value: 0.7311783960720131 and parameters: {'fixed': False, 'k': 151, 'kernel': 'uniform', 'metric': 'manhattan'}. Best is trial 4 with value: 0.7311783960720131.\n",
      "[I 2024-03-28 11:11:52,251] Trial 64 finished with value: 0.7311783960720131 and parameters: {'fixed': False, 'k': 131, 'kernel': 'uniform', 'metric': 'manhattan'}. Best is trial 4 with value: 0.7311783960720131.\n",
      "[I 2024-03-28 11:11:53,021] Trial 65 finished with value: 0.7311783960720131 and parameters: {'fixed': False, 'k': 141, 'kernel': 'epanechnikov', 'metric': 'manhattan'}. Best is trial 4 with value: 0.7311783960720131.\n",
      "[I 2024-03-28 11:11:53,106] Trial 66 finished with value: 0.6170212765957447 and parameters: {'fixed': True, 'k': 121, 'kernel': 'uniform', 'metric': 'minkowski'}. Best is trial 4 with value: 0.7311783960720131.\n",
      "[I 2024-03-28 11:11:53,436] Trial 67 finished with value: 0.7311783960720131 and parameters: {'fixed': False, 'k': 151, 'kernel': 'gaussian', 'metric': 'euclidean'}. Best is trial 4 with value: 0.7311783960720131.\n",
      "[I 2024-03-28 11:11:54,040] Trial 68 finished with value: 0.7287234042553191 and parameters: {'fixed': False, 'k': 51, 'kernel': 'triangular', 'metric': 'manhattan'}. Best is trial 4 with value: 0.7311783960720131.\n",
      "[I 2024-03-28 11:11:54,666] Trial 69 finished with value: 0.7311783960720131 and parameters: {'fixed': False, 'k': 111, 'kernel': 'gaussian', 'metric': 'cosine'}. Best is trial 4 with value: 0.7311783960720131.\n",
      "[I 2024-03-28 11:11:55,428] Trial 70 finished with value: 0.7311783960720131 and parameters: {'fixed': False, 'k': 131, 'kernel': 'uniform', 'metric': 'manhattan'}. Best is trial 4 with value: 0.7311783960720131.\n",
      "[I 2024-03-28 11:11:56,218] Trial 71 finished with value: 0.7311783960720131 and parameters: {'fixed': False, 'k': 141, 'kernel': 'gaussian', 'metric': 'manhattan'}. Best is trial 4 with value: 0.7311783960720131.\n",
      "[I 2024-03-28 11:11:56,920] Trial 72 finished with value: 0.7311783960720131 and parameters: {'fixed': False, 'k': 101, 'kernel': 'gaussian', 'metric': 'manhattan'}. Best is trial 4 with value: 0.7311783960720131.\n",
      "[I 2024-03-28 11:11:57,763] Trial 73 finished with value: 0.7311783960720131 and parameters: {'fixed': False, 'k': 121, 'kernel': 'gaussian', 'metric': 'manhattan'}. Best is trial 4 with value: 0.7311783960720131.\n",
      "[I 2024-03-28 11:11:58,536] Trial 74 finished with value: 0.7311783960720131 and parameters: {'fixed': False, 'k': 131, 'kernel': 'gaussian', 'metric': 'manhattan'}. Best is trial 4 with value: 0.7311783960720131.\n",
      "[I 2024-03-28 11:11:59,032] Trial 75 finished with value: 0.6583469721767594 and parameters: {'fixed': True, 'k': 61, 'kernel': 'gaussian', 'metric': 'manhattan'}. Best is trial 4 with value: 0.7311783960720131.\n",
      "[I 2024-03-28 11:11:59,303] Trial 76 finished with value: 0.7311783960720131 and parameters: {'fixed': False, 'k': 141, 'kernel': 'uniform', 'metric': 'euclidean'}. Best is trial 4 with value: 0.7311783960720131.\n",
      "[I 2024-03-28 11:11:59,894] Trial 77 finished with value: 0.7291325695581015 and parameters: {'fixed': False, 'k': 91, 'kernel': 'epanechnikov', 'metric': 'cosine'}. Best is trial 4 with value: 0.7311783960720131.\n",
      "[I 2024-03-28 11:12:00,705] Trial 78 finished with value: 0.7311783960720131 and parameters: {'fixed': False, 'k': 151, 'kernel': 'gaussian', 'metric': 'manhattan'}. Best is trial 4 with value: 0.7311783960720131.\n",
      "[I 2024-03-28 11:12:00,961] Trial 79 finished with value: 0.7311783960720131 and parameters: {'fixed': False, 'k': 131, 'kernel': 'uniform', 'metric': 'minkowski'}. Best is trial 4 with value: 0.7311783960720131.\n",
      "[I 2024-03-28 11:12:01,653] Trial 80 finished with value: 0.7311783960720131 and parameters: {'fixed': False, 'k': 101, 'kernel': 'gaussian', 'metric': 'manhattan'}. Best is trial 4 with value: 0.7311783960720131.\n",
      "[I 2024-03-28 11:12:02,205] Trial 81 finished with value: 0.7311783960720131 and parameters: {'fixed': False, 'k': 81, 'kernel': 'uniform', 'metric': 'cosine'}. Best is trial 4 with value: 0.7311783960720131.\n",
      "[I 2024-03-28 11:12:02,797] Trial 82 finished with value: 0.7311783960720131 and parameters: {'fixed': False, 'k': 121, 'kernel': 'uniform', 'metric': 'cosine'}. Best is trial 4 with value: 0.7311783960720131.\n",
      "[I 2024-03-28 11:12:03,361] Trial 83 finished with value: 0.7311783960720131 and parameters: {'fixed': False, 'k': 91, 'kernel': 'uniform', 'metric': 'cosine'}. Best is trial 4 with value: 0.7311783960720131.\n",
      "[I 2024-03-28 11:12:03,856] Trial 84 finished with value: 0.7311783960720131 and parameters: {'fixed': False, 'k': 41, 'kernel': 'uniform', 'metric': 'cosine'}. Best is trial 4 with value: 0.7311783960720131.\n",
      "[I 2024-03-28 11:12:04,465] Trial 85 finished with value: 0.7311783960720131 and parameters: {'fixed': False, 'k': 101, 'kernel': 'gaussian', 'metric': 'cosine'}. Best is trial 4 with value: 0.7311783960720131.\n",
      "[I 2024-03-28 11:12:04,544] Trial 86 finished with value: 0.6612111292962357 and parameters: {'fixed': True, 'k': 111, 'kernel': 'triangular', 'metric': 'euclidean'}. Best is trial 4 with value: 0.7311783960720131.\n",
      "[I 2024-03-28 11:12:05,158] Trial 87 finished with value: 0.7311783960720131 and parameters: {'fixed': False, 'k': 71, 'kernel': 'uniform', 'metric': 'manhattan'}. Best is trial 4 with value: 0.7311783960720131.\n",
      "[I 2024-03-28 11:12:05,662] Trial 88 finished with value: 0.7311783960720131 and parameters: {'fixed': False, 'k': 31, 'kernel': 'gaussian', 'metric': 'cosine'}. Best is trial 4 with value: 0.7311783960720131.\n",
      "[I 2024-03-28 11:12:06,182] Trial 89 finished with value: 0.7250409165302782 and parameters: {'fixed': False, 'k': 21, 'kernel': 'uniform', 'metric': 'manhattan'}. Best is trial 4 with value: 0.7311783960720131.\n",
      "[I 2024-03-28 11:12:06,449] Trial 90 finished with value: 0.7311783960720131 and parameters: {'fixed': False, 'k': 111, 'kernel': 'gaussian', 'metric': 'euclidean'}. Best is trial 4 with value: 0.7311783960720131.\n",
      "[I 2024-03-28 11:12:07,071] Trial 91 finished with value: 0.7311783960720131 and parameters: {'fixed': False, 'k': 61, 'kernel': 'gaussian', 'metric': 'manhattan'}. Best is trial 4 with value: 0.7311783960720131.\n",
      "[I 2024-03-28 11:12:07,751] Trial 92 finished with value: 0.7311783960720131 and parameters: {'fixed': False, 'k': 81, 'kernel': 'gaussian', 'metric': 'manhattan'}. Best is trial 4 with value: 0.7311783960720131.\n",
      "[I 2024-03-28 11:12:08,332] Trial 93 finished with value: 0.7311783960720131 and parameters: {'fixed': False, 'k': 41, 'kernel': 'gaussian', 'metric': 'manhattan'}. Best is trial 4 with value: 0.7311783960720131.\n",
      "[I 2024-03-28 11:12:08,927] Trial 94 finished with value: 0.7311783960720131 and parameters: {'fixed': False, 'k': 51, 'kernel': 'gaussian', 'metric': 'manhattan'}. Best is trial 4 with value: 0.7311783960720131.\n",
      "[I 2024-03-28 11:12:09,436] Trial 95 finished with value: 0.7213584288052373 and parameters: {'fixed': False, 'k': 31, 'kernel': 'epanechnikov', 'metric': 'cosine'}. Best is trial 4 with value: 0.7311783960720131.\n",
      "[I 2024-03-28 11:12:09,985] Trial 96 finished with value: 0.7262684124386252 and parameters: {'fixed': False, 'k': 21, 'kernel': 'gaussian', 'metric': 'manhattan'}. Best is trial 4 with value: 0.7311783960720131.\n",
      "[I 2024-03-28 11:12:10,266] Trial 97 finished with value: 0.7311783960720131 and parameters: {'fixed': False, 'k': 141, 'kernel': 'uniform', 'metric': 'minkowski'}. Best is trial 4 with value: 0.7311783960720131.\n",
      "[I 2024-03-28 11:12:10,825] Trial 98 finished with value: 0.6583469721767594 and parameters: {'fixed': True, 'k': 151, 'kernel': 'gaussian', 'metric': 'manhattan'}. Best is trial 4 with value: 0.7311783960720131.\n",
      "[I 2024-03-28 11:12:11,402] Trial 99 finished with value: 0.7311783960720131 and parameters: {'fixed': False, 'k': 91, 'kernel': 'uniform', 'metric': 'cosine'}. Best is trial 4 with value: 0.7311783960720131.\n"
     ]
    },
    {
     "name": "stdout",
     "output_type": "stream",
     "text": [
      "Best score: 0.7311783960720131\n",
      "Best parameters: {'fixed': False, 'k': 31, 'kernel': 'uniform', 'metric': 'manhattan'}\n"
     ]
    }
   ],
   "source": [
    "import optuna\n",
    "\n",
    "def objective(trial):\n",
    "    fixed = trial.suggest_categorical('fixed', [True, False])\n",
    "\n",
    "    k = trial.suggest_int('k', 1, 151, step=10)\n",
    "\n",
    "    kernel = trial.suggest_categorical('kernel', [\"uniform\", \"gaussian\", \"epanechnikov\", \"triangular\"])\n",
    "    metric = trial.suggest_categorical(\"metric\", [\"euclidean\", \"cosine\", \"manhattan\", \"minkowski\"])\n",
    "\n",
    "    model = MyKnn(k, fixed, kernel, metric)\n",
    "    model.fit(X_train, y_train)\n",
    "    pred = model.predict(X_val)\n",
    "    score = accuracy_score(pred, y_val)\n",
    "    return score\n",
    "\n",
    "study = optuna.create_study(direction='maximize')\n",
    "\n",
    "study.optimize(objective, n_trials=100)\n",
    "\n",
    "my_best_params = study.best_params\n",
    "my_best_score = study.best_value\n",
    "\n",
    "print(\"Best score:\", my_best_score)\n",
    "print(\"Best parameters:\", my_best_params)"
   ],
   "metadata": {
    "collapsed": false,
    "ExecuteTime": {
     "end_time": "2024-03-28T08:12:11.405586Z",
     "start_time": "2024-03-28T08:11:21.936061Z"
    }
   },
   "id": "c450e2c1818c06a2"
  },
  {
   "cell_type": "code",
   "execution_count": 71,
   "outputs": [
    {
     "name": "stderr",
     "output_type": "stream",
     "text": [
      "[I 2024-03-28 11:12:22,139] A new study created in memory with name: no-name-1e6d7646-8408-4c3b-b999-a24b5a9b7b91\n",
      "[I 2024-03-28 11:12:22,233] Trial 0 finished with value: 0.7532733224222586 and parameters: {'n_neighbors': 51, 'weights': 'uniform', 'metric': 'minkowski'}. Best is trial 0 with value: 0.7532733224222586.\n",
      "[I 2024-03-28 11:12:22,361] Trial 1 finished with value: 0.7487725040916531 and parameters: {'n_neighbors': 91, 'weights': 'uniform', 'metric': 'euclidean'}. Best is trial 0 with value: 0.7532733224222586.\n",
      "[I 2024-03-28 11:12:22,954] Trial 2 finished with value: 0.752454991816694 and parameters: {'n_neighbors': 81, 'weights': 'uniform', 'metric': 'manhattan'}. Best is trial 0 with value: 0.7532733224222586.\n",
      "[I 2024-03-28 11:12:23,118] Trial 3 finished with value: 0.7508183306055647 and parameters: {'n_neighbors': 81, 'weights': 'uniform', 'metric': 'minkowski'}. Best is trial 0 with value: 0.7532733224222586.\n",
      "[I 2024-03-28 11:12:23,234] Trial 4 finished with value: 0.7565466448445172 and parameters: {'n_neighbors': 41, 'weights': 'uniform', 'metric': 'euclidean'}. Best is trial 4 with value: 0.7565466448445172.\n",
      "[I 2024-03-28 11:12:23,292] Trial 5 finished with value: 0.705810147299509 and parameters: {'n_neighbors': 1, 'weights': 'uniform', 'metric': 'minkowski'}. Best is trial 4 with value: 0.7565466448445172.\n",
      "[I 2024-03-28 11:12:23,413] Trial 6 finished with value: 0.7573649754500819 and parameters: {'n_neighbors': 21, 'weights': 'uniform', 'metric': 'minkowski'}. Best is trial 6 with value: 0.7573649754500819.\n",
      "[I 2024-03-28 11:12:23,518] Trial 7 finished with value: 0.7508183306055647 and parameters: {'n_neighbors': 81, 'weights': 'uniform', 'metric': 'minkowski'}. Best is trial 6 with value: 0.7573649754500819.\n",
      "[I 2024-03-28 11:12:24,014] Trial 8 finished with value: 0.75 and parameters: {'n_neighbors': 151, 'weights': 'distance', 'metric': 'cosine'}. Best is trial 6 with value: 0.7573649754500819.\n",
      "[I 2024-03-28 11:12:24,130] Trial 9 finished with value: 0.7508183306055647 and parameters: {'n_neighbors': 71, 'weights': 'uniform', 'metric': 'minkowski'}. Best is trial 6 with value: 0.7573649754500819.\n",
      "[I 2024-03-28 11:12:24,536] Trial 10 finished with value: 0.7017184942716858 and parameters: {'n_neighbors': 1, 'weights': 'distance', 'metric': 'cosine'}. Best is trial 6 with value: 0.7573649754500819.\n",
      "[I 2024-03-28 11:12:24,617] Trial 11 finished with value: 0.7602291325695582 and parameters: {'n_neighbors': 41, 'weights': 'distance', 'metric': 'euclidean'}. Best is trial 11 with value: 0.7602291325695582.\n",
      "[I 2024-03-28 11:12:24,705] Trial 12 finished with value: 0.7606382978723404 and parameters: {'n_neighbors': 31, 'weights': 'distance', 'metric': 'euclidean'}. Best is trial 12 with value: 0.7606382978723404.\n",
      "[I 2024-03-28 11:12:24,784] Trial 13 finished with value: 0.7602291325695582 and parameters: {'n_neighbors': 41, 'weights': 'distance', 'metric': 'euclidean'}. Best is trial 12 with value: 0.7606382978723404.\n",
      "[I 2024-03-28 11:12:24,909] Trial 14 finished with value: 0.7504091653027823 and parameters: {'n_neighbors': 131, 'weights': 'distance', 'metric': 'euclidean'}. Best is trial 12 with value: 0.7606382978723404.\n",
      "[I 2024-03-28 11:12:24,976] Trial 15 finished with value: 0.763911620294599 and parameters: {'n_neighbors': 21, 'weights': 'distance', 'metric': 'euclidean'}. Best is trial 15 with value: 0.763911620294599.\n",
      "[I 2024-03-28 11:12:25,481] Trial 16 finished with value: 0.763911620294599 and parameters: {'n_neighbors': 21, 'weights': 'distance', 'metric': 'manhattan'}. Best is trial 15 with value: 0.763911620294599.\n",
      "[I 2024-03-28 11:12:25,998] Trial 17 finished with value: 0.7569558101472995 and parameters: {'n_neighbors': 11, 'weights': 'distance', 'metric': 'manhattan'}. Best is trial 15 with value: 0.763911620294599.\n",
      "[I 2024-03-28 11:12:26,591] Trial 18 finished with value: 0.752454991816694 and parameters: {'n_neighbors': 101, 'weights': 'distance', 'metric': 'manhattan'}. Best is trial 15 with value: 0.763911620294599.\n",
      "[I 2024-03-28 11:12:27,079] Trial 19 finished with value: 0.763911620294599 and parameters: {'n_neighbors': 21, 'weights': 'distance', 'metric': 'manhattan'}. Best is trial 15 with value: 0.763911620294599.\n",
      "[I 2024-03-28 11:12:27,664] Trial 20 finished with value: 0.7528641571194763 and parameters: {'n_neighbors': 111, 'weights': 'distance', 'metric': 'manhattan'}. Best is trial 15 with value: 0.763911620294599.\n",
      "[I 2024-03-28 11:12:28,197] Trial 21 finished with value: 0.7573649754500819 and parameters: {'n_neighbors': 61, 'weights': 'distance', 'metric': 'manhattan'}. Best is trial 15 with value: 0.763911620294599.\n",
      "[I 2024-03-28 11:12:28,683] Trial 22 finished with value: 0.763911620294599 and parameters: {'n_neighbors': 21, 'weights': 'distance', 'metric': 'manhattan'}. Best is trial 15 with value: 0.763911620294599.\n",
      "[I 2024-03-28 11:12:29,158] Trial 23 finished with value: 0.763911620294599 and parameters: {'n_neighbors': 21, 'weights': 'distance', 'metric': 'manhattan'}. Best is trial 15 with value: 0.763911620294599.\n",
      "[I 2024-03-28 11:12:29,688] Trial 24 finished with value: 0.7573649754500819 and parameters: {'n_neighbors': 61, 'weights': 'distance', 'metric': 'manhattan'}. Best is trial 15 with value: 0.763911620294599.\n",
      "[I 2024-03-28 11:12:30,140] Trial 25 finished with value: 0.7528641571194763 and parameters: {'n_neighbors': 11, 'weights': 'distance', 'metric': 'cosine'}. Best is trial 15 with value: 0.763911620294599.\n",
      "[I 2024-03-28 11:12:30,642] Trial 26 finished with value: 0.7647299509001637 and parameters: {'n_neighbors': 31, 'weights': 'distance', 'metric': 'manhattan'}. Best is trial 26 with value: 0.7647299509001637.\n",
      "[I 2024-03-28 11:12:31,138] Trial 27 finished with value: 0.7647299509001637 and parameters: {'n_neighbors': 31, 'weights': 'distance', 'metric': 'manhattan'}. Best is trial 26 with value: 0.7647299509001637.\n",
      "[I 2024-03-28 11:12:31,232] Trial 28 finished with value: 0.7553191489361702 and parameters: {'n_neighbors': 51, 'weights': 'distance', 'metric': 'euclidean'}. Best is trial 26 with value: 0.7647299509001637.\n",
      "[I 2024-03-28 11:12:31,690] Trial 29 finished with value: 0.7536824877250409 and parameters: {'n_neighbors': 51, 'weights': 'distance', 'metric': 'cosine'}. Best is trial 26 with value: 0.7647299509001637.\n",
      "[I 2024-03-28 11:12:32,202] Trial 30 finished with value: 0.7647299509001637 and parameters: {'n_neighbors': 31, 'weights': 'distance', 'metric': 'manhattan'}. Best is trial 26 with value: 0.7647299509001637.\n",
      "[I 2024-03-28 11:12:32,704] Trial 31 finished with value: 0.7647299509001637 and parameters: {'n_neighbors': 31, 'weights': 'distance', 'metric': 'manhattan'}. Best is trial 26 with value: 0.7647299509001637.\n",
      "[I 2024-03-28 11:12:33,193] Trial 32 finished with value: 0.7647299509001637 and parameters: {'n_neighbors': 31, 'weights': 'distance', 'metric': 'manhattan'}. Best is trial 26 with value: 0.7647299509001637.\n",
      "[I 2024-03-28 11:12:33,722] Trial 33 finished with value: 0.7573649754500819 and parameters: {'n_neighbors': 61, 'weights': 'distance', 'metric': 'manhattan'}. Best is trial 26 with value: 0.7647299509001637.\n",
      "[I 2024-03-28 11:12:34,225] Trial 34 finished with value: 0.7647299509001637 and parameters: {'n_neighbors': 31, 'weights': 'distance', 'metric': 'manhattan'}. Best is trial 26 with value: 0.7647299509001637.\n",
      "[I 2024-03-28 11:12:34,727] Trial 35 finished with value: 0.7618657937806874 and parameters: {'n_neighbors': 41, 'weights': 'distance', 'metric': 'manhattan'}. Best is trial 26 with value: 0.7647299509001637.\n",
      "[I 2024-03-28 11:12:35,183] Trial 36 finished with value: 0.7569558101472995 and parameters: {'n_neighbors': 11, 'weights': 'distance', 'metric': 'manhattan'}. Best is trial 26 with value: 0.7647299509001637.\n",
      "[I 2024-03-28 11:12:35,585] Trial 37 finished with value: 0.7131751227495908 and parameters: {'n_neighbors': 1, 'weights': 'uniform', 'metric': 'manhattan'}. Best is trial 26 with value: 0.7647299509001637.\n",
      "[I 2024-03-28 11:12:36,125] Trial 38 finished with value: 0.7569558101472995 and parameters: {'n_neighbors': 71, 'weights': 'distance', 'metric': 'manhattan'}. Best is trial 26 with value: 0.7647299509001637.\n",
      "[I 2024-03-28 11:12:36,544] Trial 39 finished with value: 0.7561374795417348 and parameters: {'n_neighbors': 51, 'weights': 'uniform', 'metric': 'manhattan'}. Best is trial 26 with value: 0.7647299509001637.\n",
      "[I 2024-03-28 11:12:36,622] Trial 40 finished with value: 0.7606382978723404 and parameters: {'n_neighbors': 31, 'weights': 'distance', 'metric': 'minkowski'}. Best is trial 26 with value: 0.7647299509001637.\n",
      "[I 2024-03-28 11:12:37,135] Trial 41 finished with value: 0.7647299509001637 and parameters: {'n_neighbors': 31, 'weights': 'distance', 'metric': 'manhattan'}. Best is trial 26 with value: 0.7647299509001637.\n",
      "[I 2024-03-28 11:12:37,657] Trial 42 finished with value: 0.7618657937806874 and parameters: {'n_neighbors': 41, 'weights': 'distance', 'metric': 'manhattan'}. Best is trial 26 with value: 0.7647299509001637.\n",
      "[I 2024-03-28 11:12:38,212] Trial 43 finished with value: 0.7647299509001637 and parameters: {'n_neighbors': 31, 'weights': 'distance', 'metric': 'manhattan'}. Best is trial 26 with value: 0.7647299509001637.\n",
      "[I 2024-03-28 11:12:38,611] Trial 44 finished with value: 0.7581833060556464 and parameters: {'n_neighbors': 11, 'weights': 'uniform', 'metric': 'manhattan'}. Best is trial 26 with value: 0.7647299509001637.\n",
      "[I 2024-03-28 11:12:39,137] Trial 45 finished with value: 0.7581833060556464 and parameters: {'n_neighbors': 51, 'weights': 'distance', 'metric': 'manhattan'}. Best is trial 26 with value: 0.7647299509001637.\n",
      "[I 2024-03-28 11:12:39,245] Trial 46 finished with value: 0.7602291325695582 and parameters: {'n_neighbors': 41, 'weights': 'distance', 'metric': 'minkowski'}. Best is trial 26 with value: 0.7647299509001637.\n",
      "[I 2024-03-28 11:12:39,659] Trial 47 finished with value: 0.7017184942716858 and parameters: {'n_neighbors': 1, 'weights': 'uniform', 'metric': 'cosine'}. Best is trial 26 with value: 0.7647299509001637.\n",
      "[I 2024-03-28 11:12:40,158] Trial 48 finished with value: 0.7647299509001637 and parameters: {'n_neighbors': 31, 'weights': 'distance', 'metric': 'manhattan'}. Best is trial 26 with value: 0.7647299509001637.\n",
      "[I 2024-03-28 11:12:40,724] Trial 49 finished with value: 0.7545008183306056 and parameters: {'n_neighbors': 91, 'weights': 'distance', 'metric': 'manhattan'}. Best is trial 26 with value: 0.7647299509001637.\n",
      "[I 2024-03-28 11:12:40,787] Trial 50 finished with value: 0.7565466448445172 and parameters: {'n_neighbors': 11, 'weights': 'distance', 'metric': 'minkowski'}. Best is trial 26 with value: 0.7647299509001637.\n",
      "[I 2024-03-28 11:12:41,305] Trial 51 finished with value: 0.7647299509001637 and parameters: {'n_neighbors': 31, 'weights': 'distance', 'metric': 'manhattan'}. Best is trial 26 with value: 0.7647299509001637.\n",
      "[I 2024-03-28 11:12:41,808] Trial 52 finished with value: 0.7618657937806874 and parameters: {'n_neighbors': 41, 'weights': 'distance', 'metric': 'manhattan'}. Best is trial 26 with value: 0.7647299509001637.\n",
      "[I 2024-03-28 11:12:42,311] Trial 53 finished with value: 0.763911620294599 and parameters: {'n_neighbors': 21, 'weights': 'distance', 'metric': 'manhattan'}. Best is trial 26 with value: 0.7647299509001637.\n",
      "[I 2024-03-28 11:12:42,815] Trial 54 finished with value: 0.7647299509001637 and parameters: {'n_neighbors': 31, 'weights': 'distance', 'metric': 'manhattan'}. Best is trial 26 with value: 0.7647299509001637.\n",
      "[I 2024-03-28 11:12:43,324] Trial 55 finished with value: 0.7618657937806874 and parameters: {'n_neighbors': 41, 'weights': 'distance', 'metric': 'manhattan'}. Best is trial 26 with value: 0.7647299509001637.\n",
      "[I 2024-03-28 11:12:43,842] Trial 56 finished with value: 0.7581833060556464 and parameters: {'n_neighbors': 51, 'weights': 'distance', 'metric': 'manhattan'}. Best is trial 26 with value: 0.7647299509001637.\n",
      "[I 2024-03-28 11:12:44,333] Trial 57 finished with value: 0.763911620294599 and parameters: {'n_neighbors': 21, 'weights': 'distance', 'metric': 'manhattan'}. Best is trial 26 with value: 0.7647299509001637.\n",
      "[I 2024-03-28 11:12:44,809] Trial 58 finished with value: 0.7463175122749591 and parameters: {'n_neighbors': 71, 'weights': 'uniform', 'metric': 'cosine'}. Best is trial 26 with value: 0.7647299509001637.\n",
      "[I 2024-03-28 11:12:44,940] Trial 59 finished with value: 0.75 and parameters: {'n_neighbors': 141, 'weights': 'distance', 'metric': 'euclidean'}. Best is trial 26 with value: 0.7647299509001637.\n",
      "[I 2024-03-28 11:12:45,442] Trial 60 finished with value: 0.7647299509001637 and parameters: {'n_neighbors': 31, 'weights': 'distance', 'metric': 'manhattan'}. Best is trial 26 with value: 0.7647299509001637.\n",
      "[I 2024-03-28 11:12:45,928] Trial 61 finished with value: 0.7647299509001637 and parameters: {'n_neighbors': 31, 'weights': 'distance', 'metric': 'manhattan'}. Best is trial 26 with value: 0.7647299509001637.\n",
      "[I 2024-03-28 11:12:46,414] Trial 62 finished with value: 0.763911620294599 and parameters: {'n_neighbors': 21, 'weights': 'distance', 'metric': 'manhattan'}. Best is trial 26 with value: 0.7647299509001637.\n",
      "[I 2024-03-28 11:12:46,944] Trial 63 finished with value: 0.7573649754500819 and parameters: {'n_neighbors': 61, 'weights': 'distance', 'metric': 'manhattan'}. Best is trial 26 with value: 0.7647299509001637.\n",
      "[I 2024-03-28 11:12:47,467] Trial 64 finished with value: 0.7618657937806874 and parameters: {'n_neighbors': 41, 'weights': 'distance', 'metric': 'manhattan'}. Best is trial 26 with value: 0.7647299509001637.\n",
      "[I 2024-03-28 11:12:47,955] Trial 65 finished with value: 0.763911620294599 and parameters: {'n_neighbors': 21, 'weights': 'distance', 'metric': 'manhattan'}. Best is trial 26 with value: 0.7647299509001637.\n",
      "[I 2024-03-28 11:12:48,501] Trial 66 finished with value: 0.7647299509001637 and parameters: {'n_neighbors': 31, 'weights': 'distance', 'metric': 'manhattan'}. Best is trial 26 with value: 0.7647299509001637.\n",
      "[I 2024-03-28 11:12:49,044] Trial 67 finished with value: 0.7581833060556464 and parameters: {'n_neighbors': 51, 'weights': 'distance', 'metric': 'manhattan'}. Best is trial 26 with value: 0.7647299509001637.\n",
      "[I 2024-03-28 11:12:49,114] Trial 68 finished with value: 0.7565466448445172 and parameters: {'n_neighbors': 11, 'weights': 'distance', 'metric': 'euclidean'}. Best is trial 26 with value: 0.7647299509001637.\n",
      "[I 2024-03-28 11:12:49,203] Trial 69 finished with value: 0.7602291325695582 and parameters: {'n_neighbors': 41, 'weights': 'distance', 'metric': 'minkowski'}. Best is trial 26 with value: 0.7647299509001637.\n",
      "[I 2024-03-28 11:12:49,793] Trial 70 finished with value: 0.7528641571194763 and parameters: {'n_neighbors': 111, 'weights': 'distance', 'metric': 'manhattan'}. Best is trial 26 with value: 0.7647299509001637.\n",
      "[I 2024-03-28 11:12:50,312] Trial 71 finished with value: 0.7647299509001637 and parameters: {'n_neighbors': 31, 'weights': 'distance', 'metric': 'manhattan'}. Best is trial 26 with value: 0.7647299509001637.\n",
      "[I 2024-03-28 11:12:50,815] Trial 72 finished with value: 0.763911620294599 and parameters: {'n_neighbors': 21, 'weights': 'distance', 'metric': 'manhattan'}. Best is trial 26 with value: 0.7647299509001637.\n",
      "[I 2024-03-28 11:12:51,344] Trial 73 finished with value: 0.7647299509001637 and parameters: {'n_neighbors': 31, 'weights': 'distance', 'metric': 'manhattan'}. Best is trial 26 with value: 0.7647299509001637.\n",
      "[I 2024-03-28 11:12:51,898] Trial 74 finished with value: 0.7618657937806874 and parameters: {'n_neighbors': 41, 'weights': 'distance', 'metric': 'manhattan'}. Best is trial 26 with value: 0.7647299509001637.\n",
      "[I 2024-03-28 11:12:52,382] Trial 75 finished with value: 0.7520458265139116 and parameters: {'n_neighbors': 31, 'weights': 'uniform', 'metric': 'cosine'}. Best is trial 26 with value: 0.7647299509001637.\n",
      "[I 2024-03-28 11:12:52,858] Trial 76 finished with value: 0.7569558101472995 and parameters: {'n_neighbors': 11, 'weights': 'distance', 'metric': 'manhattan'}. Best is trial 26 with value: 0.7647299509001637.\n",
      "[I 2024-03-28 11:12:53,312] Trial 77 finished with value: 0.7131751227495908 and parameters: {'n_neighbors': 1, 'weights': 'distance', 'metric': 'manhattan'}. Best is trial 26 with value: 0.7647299509001637.\n",
      "[I 2024-03-28 11:12:53,812] Trial 78 finished with value: 0.763911620294599 and parameters: {'n_neighbors': 21, 'weights': 'distance', 'metric': 'manhattan'}. Best is trial 26 with value: 0.7647299509001637.\n",
      "[I 2024-03-28 11:12:54,351] Trial 79 finished with value: 0.7618657937806874 and parameters: {'n_neighbors': 41, 'weights': 'distance', 'metric': 'manhattan'}. Best is trial 26 with value: 0.7647299509001637.\n",
      "[I 2024-03-28 11:12:54,862] Trial 80 finished with value: 0.7647299509001637 and parameters: {'n_neighbors': 31, 'weights': 'distance', 'metric': 'manhattan'}. Best is trial 26 with value: 0.7647299509001637.\n",
      "[I 2024-03-28 11:12:55,365] Trial 81 finished with value: 0.7647299509001637 and parameters: {'n_neighbors': 31, 'weights': 'distance', 'metric': 'manhattan'}. Best is trial 26 with value: 0.7647299509001637.\n",
      "[I 2024-03-28 11:12:55,862] Trial 82 finished with value: 0.763911620294599 and parameters: {'n_neighbors': 21, 'weights': 'distance', 'metric': 'manhattan'}. Best is trial 26 with value: 0.7647299509001637.\n",
      "[I 2024-03-28 11:12:56,396] Trial 83 finished with value: 0.7581833060556464 and parameters: {'n_neighbors': 51, 'weights': 'distance', 'metric': 'manhattan'}. Best is trial 26 with value: 0.7647299509001637.\n",
      "[I 2024-03-28 11:12:56,906] Trial 84 finished with value: 0.7618657937806874 and parameters: {'n_neighbors': 41, 'weights': 'distance', 'metric': 'manhattan'}. Best is trial 26 with value: 0.7647299509001637.\n",
      "[I 2024-03-28 11:12:57,436] Trial 85 finished with value: 0.7647299509001637 and parameters: {'n_neighbors': 31, 'weights': 'distance', 'metric': 'manhattan'}. Best is trial 26 with value: 0.7647299509001637.\n",
      "[I 2024-03-28 11:12:57,507] Trial 86 finished with value: 0.7573649754500819 and parameters: {'n_neighbors': 21, 'weights': 'uniform', 'metric': 'minkowski'}. Best is trial 26 with value: 0.7647299509001637.\n",
      "[I 2024-03-28 11:12:57,572] Trial 87 finished with value: 0.7565466448445172 and parameters: {'n_neighbors': 11, 'weights': 'distance', 'metric': 'euclidean'}. Best is trial 26 with value: 0.7647299509001637.\n",
      "[I 2024-03-28 11:12:58,082] Trial 88 finished with value: 0.7618657937806874 and parameters: {'n_neighbors': 41, 'weights': 'distance', 'metric': 'manhattan'}. Best is trial 26 with value: 0.7647299509001637.\n",
      "[I 2024-03-28 11:12:58,553] Trial 89 finished with value: 0.7573649754500819 and parameters: {'n_neighbors': 31, 'weights': 'distance', 'metric': 'cosine'}. Best is trial 26 with value: 0.7647299509001637.\n",
      "[I 2024-03-28 11:12:59,059] Trial 90 finished with value: 0.763911620294599 and parameters: {'n_neighbors': 21, 'weights': 'distance', 'metric': 'manhattan'}. Best is trial 26 with value: 0.7647299509001637.\n",
      "[I 2024-03-28 11:12:59,558] Trial 91 finished with value: 0.7647299509001637 and parameters: {'n_neighbors': 31, 'weights': 'distance', 'metric': 'manhattan'}. Best is trial 26 with value: 0.7647299509001637.\n",
      "[I 2024-03-28 11:13:00,059] Trial 92 finished with value: 0.7647299509001637 and parameters: {'n_neighbors': 31, 'weights': 'distance', 'metric': 'manhattan'}. Best is trial 26 with value: 0.7647299509001637.\n",
      "[I 2024-03-28 11:13:00,566] Trial 93 finished with value: 0.763911620294599 and parameters: {'n_neighbors': 21, 'weights': 'distance', 'metric': 'manhattan'}. Best is trial 26 with value: 0.7647299509001637.\n",
      "[I 2024-03-28 11:13:01,106] Trial 94 finished with value: 0.7581833060556464 and parameters: {'n_neighbors': 51, 'weights': 'distance', 'metric': 'manhattan'}. Best is trial 26 with value: 0.7647299509001637.\n",
      "[I 2024-03-28 11:13:01,626] Trial 95 finished with value: 0.7618657937806874 and parameters: {'n_neighbors': 41, 'weights': 'distance', 'metric': 'manhattan'}. Best is trial 26 with value: 0.7647299509001637.\n",
      "[I 2024-03-28 11:13:02,142] Trial 96 finished with value: 0.7647299509001637 and parameters: {'n_neighbors': 31, 'weights': 'distance', 'metric': 'manhattan'}. Best is trial 26 with value: 0.7647299509001637.\n",
      "[I 2024-03-28 11:13:02,636] Trial 97 finished with value: 0.763911620294599 and parameters: {'n_neighbors': 21, 'weights': 'distance', 'metric': 'manhattan'}. Best is trial 26 with value: 0.7647299509001637.\n",
      "[I 2024-03-28 11:13:03,110] Trial 98 finished with value: 0.7569558101472995 and parameters: {'n_neighbors': 11, 'weights': 'distance', 'metric': 'manhattan'}. Best is trial 26 with value: 0.7647299509001637.\n",
      "[I 2024-03-28 11:13:03,523] Trial 99 finished with value: 0.7532733224222586 and parameters: {'n_neighbors': 41, 'weights': 'uniform', 'metric': 'manhattan'}. Best is trial 26 with value: 0.7647299509001637.\n"
     ]
    },
    {
     "name": "stdout",
     "output_type": "stream",
     "text": [
      "Best score: 0.7647299509001637\n",
      "Best parameters: {'n_neighbors': 31, 'weights': 'distance', 'metric': 'manhattan'}\n"
     ]
    }
   ],
   "source": [
    "import optuna\n",
    "from sklearn.neighbors import KNeighborsClassifier\n",
    "from sklearn.metrics import accuracy_score, r2_score\n",
    "\n",
    "def objective(trial):\n",
    "    \n",
    "    n_neighbors = trial.suggest_int('n_neighbors', 1, 151, step=10)\n",
    "    weights = trial.suggest_categorical('weights', [\"uniform\", \"distance\"])\n",
    "    metric = trial.suggest_categorical(\"metric\", [\"euclidean\", \"cosine\", \"manhattan\", \"minkowski\"])\n",
    "\n",
    "    model = KNeighborsClassifier(n_neighbors=n_neighbors, weights=weights, metric=metric)\n",
    "    model.fit(X_train, y_train)\n",
    "    pred = model.predict(X_val)\n",
    "    score = accuracy_score(pred, y_val)\n",
    "    return score\n",
    "\n",
    "study = optuna.create_study(direction='maximize')\n",
    "\n",
    "study.optimize(objective, n_trials=100)\n",
    "\n",
    "lib_best_params = study.best_params\n",
    "lib_best_score = study.best_value\n",
    "\n",
    "print(\"Best score:\", lib_best_score)\n",
    "print(\"Best parameters:\", lib_best_params)"
   ],
   "metadata": {
    "collapsed": false,
    "ExecuteTime": {
     "end_time": "2024-03-28T08:13:03.527317Z",
     "start_time": "2024-03-28T08:12:22.140523Z"
    }
   },
   "id": "aa727b79ffc82974"
  },
  {
   "cell_type": "code",
   "execution_count": 74,
   "outputs": [],
   "source": [
    "def draw_plot(X_train, y_train, X_val, y_val, model_constructor, args):\n",
    "    res = []\n",
    "    for i in tqdm(args):\n",
    "        model = model_constructor(i)\n",
    "        model.fit(X_train, y_train)\n",
    "        score_train = accuracy_score(y_train, model.predict(X_train))\n",
    "        score_val = accuracy_score(y_val, model.predict(X_val))\n",
    "        res.append([score_train, score_val])\n",
    "\n",
    "    plt.figure(figsize=(12, 4))\n",
    "    print([i[0] for i in res])\n",
    "    print([i[1] for i in res])\n",
    "    plt.subplot(131)\n",
    "    plt.plot(args, [i[0] for i in res])\n",
    "    plt.title(\"train\")\n",
    "\n",
    "    plt.subplot(132)\n",
    "    plt.plot(args, [i[1] for i in res])\n",
    "    plt.title(\"valid\")\n",
    "\n",
    "    plt.tight_layout()\n",
    "    plt.show()\n",
    "\n",
    "def my_constructor(n):\n",
    "    return MyKnn(k=n, fixed=my_best_params[\"fixed\"], kernel=my_best_params[\"kernel\"], metric=my_best_params[\"metric\"])\n",
    "\n",
    "def lib_constructor(n):\n",
    "    return KNeighborsClassifier(n_neighbors=n, weights=lib_best_params[\"weights\"], metric=lib_best_params[\"metric\"])"
   ],
   "metadata": {
    "collapsed": false,
    "ExecuteTime": {
     "end_time": "2024-03-28T08:13:32.840410Z",
     "start_time": "2024-03-28T08:13:32.836177Z"
    }
   },
   "id": "9187bd4f072d981"
  },
  {
   "cell_type": "code",
   "execution_count": 73,
   "outputs": [
    {
     "name": "stderr",
     "output_type": "stream",
     "text": [
      "  0%|          | 0/10 [00:00<?, ?it/s]/var/folders/6v/zsk4b6pj06bftc_2d241_k3r0000gn/T/ipykernel_74261/700806344.py:36: RuntimeWarning: invalid value encountered in scalar divide\n",
      "  tmp[y[ind[i]]] += self.kernel(distances[l][i] / h) * (self.weights[ind[i]] if self.weights else 1)\n",
      "100%|██████████| 10/10 [00:22<00:00,  2.30s/it]"
     ]
    },
    {
     "name": "stdout",
     "output_type": "stream",
     "text": [
      "[0.5923349699945445, 0.7129023458810693, 0.7285870158210583, 0.7352700490998363, 0.7354064375340971, 0.7354064375340971, 0.7354064375340971, 0.7354064375340971, 0.7354064375340971, 0.7354064375340971]\n",
      "[0.6006546644844517, 0.7066284779050737, 0.7250409165302782, 0.7311783960720131, 0.7311783960720131, 0.7311783960720131, 0.7311783960720131, 0.7311783960720131, 0.7311783960720131, 0.7311783960720131]\n"
     ]
    },
    {
     "name": "stderr",
     "output_type": "stream",
     "text": [
      "\n"
     ]
    },
    {
     "data": {
      "text/plain": "<Figure size 1200x400 with 2 Axes>",
      "image/png": "[encoded data removed]"
     },
     "metadata": {},
     "output_type": "display_data"
    }
   ],
   "source": [
    "draw_plot(X_train, y_train, X_val, y_val, my_constructor, range(1, 101, 10))"
   ],
   "metadata": {
    "collapsed": false,
    "ExecuteTime": {
     "end_time": "2024-03-28T08:13:30.482171Z",
     "start_time": "2024-03-28T08:13:07.414509Z"
    }
   },
   "id": "fad6cc52f0cf9b3c"
  },
  {
   "cell_type": "code",
   "execution_count": 75,
   "outputs": [
    {
     "name": "stderr",
     "output_type": "stream",
     "text": [
      "100%|██████████| 10/10 [00:23<00:00,  2.39s/it]"
     ]
    },
    {
     "name": "stdout",
     "output_type": "stream",
     "text": [
      "[1.0, 1.0, 1.0, 1.0, 1.0, 1.0, 1.0, 1.0, 1.0, 1.0]\n",
      "[0.7131751227495908, 0.7569558101472995, 0.763911620294599, 0.7647299509001637, 0.7618657937806874, 0.7581833060556464, 0.7573649754500819, 0.7569558101472995, 0.7573649754500819, 0.7545008183306056]\n"
     ]
    },
    {
     "name": "stderr",
     "output_type": "stream",
     "text": [
      "\n"
     ]
    },
    {
     "data": {
      "text/plain": "<Figure size 1200x400 with 2 Axes>",
      "image/png": "[encoded data removed]"
     },
     "metadata": {},
     "output_type": "display_data"
    }
   ],
   "source": [
    "draw_plot(X_train, y_train, X_val, y_val, lib_constructor, range(1, 101, 10))"
   ],
   "metadata": {
    "collapsed": false,
    "ExecuteTime": {
     "end_time": "2024-03-28T08:14:00.155942Z",
     "start_time": "2024-03-28T08:13:36.107465Z"
    }
   },
   "id": "5287ce45ac6c42d3"
  },
  {
   "cell_type": "raw",
   "source": [
    "Calculate weights"
   ],
   "metadata": {
    "collapsed": false
   },
   "id": "9d5496d6491054b7"
  },
  {
   "cell_type": "code",
   "execution_count": 76,
   "outputs": [],
   "source": [
    "def lowess(X, y):\n",
    "    weights = []\n",
    "    for i in tqdm(range(len(X))):\n",
    "        mask = np.ones(len(X), dtype=bool)\n",
    "        mask[i] = False\n",
    "        model = MyKnn(k=my_best_params[\"k\"], fixed=my_best_params[\"fixed\"], kernel=my_best_params[\"kernel\"], metric=my_best_params[\"metric\"])\n",
    "        model.fit(X[mask], y[mask])\n",
    "        weights.append(gaussian_kernel(y[i] - model.predict([X[i]])[0]))\n",
    "    return weights"
   ],
   "metadata": {
    "collapsed": false,
    "ExecuteTime": {
     "end_time": "2024-03-28T08:14:00.165698Z",
     "start_time": "2024-03-28T08:14:00.157814Z"
    }
   },
   "id": "6825706772670388"
  },
  {
   "cell_type": "code",
   "execution_count": 77,
   "outputs": [
    {
     "name": "stderr",
     "output_type": "stream",
     "text": [
      "100%|██████████| 7332/7332 [00:26<00:00, 278.53it/s]\n"
     ]
    }
   ],
   "source": [
    "w = lowess(X_train, y_train)"
   ],
   "metadata": {
    "collapsed": false,
    "ExecuteTime": {
     "end_time": "2024-03-28T08:14:26.488028Z",
     "start_time": "2024-03-28T08:14:00.160725Z"
    }
   },
   "id": "376f826c8b252b19"
  },
  {
   "cell_type": "raw",
   "source": [
    "My KNN"
   ],
   "metadata": {
    "collapsed": false
   },
   "id": "2fb0441baaaf758f"
  },
  {
   "cell_type": "code",
   "execution_count": 78,
   "outputs": [],
   "source": [
    "model = MyKnn(k=my_best_params[\"k\"], fixed=my_best_params[\"fixed\"], kernel=my_best_params[\"kernel\"], metric=my_best_params[\"metric\"])\n",
    "model.fit(X_train, y_train, weights=w)"
   ],
   "metadata": {
    "collapsed": false,
    "ExecuteTime": {
     "end_time": "2024-03-28T08:14:26.588249Z",
     "start_time": "2024-03-28T08:14:26.491443Z"
    }
   },
   "id": "ea55636e3d06ac12"
  },
  {
   "cell_type": "code",
   "execution_count": 79,
   "outputs": [
    {
     "data": {
      "text/plain": "0.7315875613747954"
     },
     "execution_count": 79,
     "metadata": {},
     "output_type": "execute_result"
    }
   ],
   "source": [
    "accuracy_score(y_val, model.predict(X_val))"
   ],
   "metadata": {
    "collapsed": false,
    "ExecuteTime": {
     "end_time": "2024-03-28T08:14:27.082314Z",
     "start_time": "2024-03-28T08:14:26.492394Z"
    }
   },
   "id": "7956156cb4e729d"
  },
  {
   "cell_type": "raw",
   "source": [
    "Sklearn KNN"
   ],
   "metadata": {
    "collapsed": false
   },
   "id": "ca706e96cdb20fbe"
  },
  {
   "cell_type": "code",
   "execution_count": 80,
   "outputs": [],
   "source": [
    "mask = np.ones(len(X_train), dtype=bool)\n",
    "percentile = np.percentile(w, 25)\n",
    "for i in range(len(mask)):\n",
    "    if w[i] < percentile:\n",
    "        mask[i] = False\n",
    "X_train_fil, y_train_fil = X_train[mask], y_train[mask]\n",
    "model = KNeighborsClassifier(n_neighbors=lib_best_params[\"n_neighbors\"], weights=lib_best_params[\"weights\"], metric=lib_best_params[\"metric\"])\n",
    "model.fit(X_train_fil, y_train_fil)\n",
    "pred = model.predict(X_val)"
   ],
   "metadata": {
    "collapsed": false,
    "ExecuteTime": {
     "end_time": "2024-03-28T08:14:27.533812Z",
     "start_time": "2024-03-28T08:14:27.084708Z"
    }
   },
   "id": "b5bc6b4ddf038691"
  },
  {
   "cell_type": "code",
   "execution_count": 81,
   "outputs": [
    {
     "data": {
      "text/plain": "0.7319967266775778"
     },
     "execution_count": 81,
     "metadata": {},
     "output_type": "execute_result"
    }
   ],
   "source": [
    "accuracy_score(pred, y_val)"
   ],
   "metadata": {
    "collapsed": false,
    "ExecuteTime": {
     "end_time": "2024-03-28T08:14:27.539212Z",
     "start_time": "2024-03-28T08:14:27.534824Z"
    }
   },
   "id": "cbb9196d54f3c72d"
  },
  {
   "cell_type": "code",
   "execution_count": null,
   "outputs": [],
   "source": [],
   "metadata": {
    "collapsed": false
   },
   "id": "c816154250d263db"
  }
 ],
 "metadata": {
  "kernelspec": {
   "display_name": "Python 3",
   "language": "python",
   "name": "python3"
  },
  "language_info": {
   "codemirror_mode": {
    "name": "ipython",
    "version": 2
   },
   "file_extension": ".py",
   "mimetype": "text/x-python",
   "name": "python",
   "nbconvert_exporter": "python",
   "pygments_lexer": "ipython2",
   "version": "2.7.6"
  }
 },
 "nbformat": 4,
 "nbformat_minor": 5
}
